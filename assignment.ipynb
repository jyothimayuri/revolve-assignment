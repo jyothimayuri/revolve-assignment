{
    "cells": [
        {
            "cell_type": "code",
            "execution_count": 1,
            "metadata": {
                "id": "aCrtHlK8OcXm"
            },
            "outputs": [],
            "source": "#importing libraries\nimport numpy as np\nimport pandas as pd\nimport matplotlib.pyplot as plt"
        },
        {
            "cell_type": "code",
            "execution_count": 5,
            "metadata": {},
            "outputs": [
                {
                    "data": {
                        "text/html": "<div>\n<style scoped>\n    .dataframe tbody tr th:only-of-type {\n        vertical-align: middle;\n    }\n\n    .dataframe tbody tr th {\n        vertical-align: top;\n    }\n\n    .dataframe thead th {\n        text-align: right;\n    }\n</style>\n<table border=\"1\" class=\"dataframe\">\n  <thead>\n    <tr style=\"text-align: right;\">\n      <th></th>\n      <th>IATA_CODE</th>\n      <th>AIRLINE</th>\n    </tr>\n  </thead>\n  <tbody>\n    <tr>\n      <th>0</th>\n      <td>UA</td>\n      <td>United Air Lines Inc.</td>\n    </tr>\n    <tr>\n      <th>1</th>\n      <td>AA</td>\n      <td>American Airlines Inc.</td>\n    </tr>\n    <tr>\n      <th>2</th>\n      <td>US</td>\n      <td>US Airways Inc.</td>\n    </tr>\n    <tr>\n      <th>3</th>\n      <td>F9</td>\n      <td>Frontier Airlines Inc.</td>\n    </tr>\n    <tr>\n      <th>4</th>\n      <td>B6</td>\n      <td>JetBlue Airways</td>\n    </tr>\n  </tbody>\n</table>\n</div>",
                        "text/plain": "  IATA_CODE                 AIRLINE\n0        UA   United Air Lines Inc.\n1        AA  American Airlines Inc.\n2        US         US Airways Inc.\n3        F9  Frontier Airlines Inc.\n4        B6         JetBlue Airways"
                    },
                    "execution_count": 5,
                    "metadata": {},
                    "output_type": "execute_result"
                }
            ],
            "source": "# The code was removed by Watson Studio for sharing."
        },
        {
            "cell_type": "code",
            "execution_count": 4,
            "metadata": {},
            "outputs": [
                {
                    "data": {
                        "text/html": "<div>\n<style scoped>\n    .dataframe tbody tr th:only-of-type {\n        vertical-align: middle;\n    }\n\n    .dataframe tbody tr th {\n        vertical-align: top;\n    }\n\n    .dataframe thead th {\n        text-align: right;\n    }\n</style>\n<table border=\"1\" class=\"dataframe\">\n  <thead>\n    <tr style=\"text-align: right;\">\n      <th></th>\n      <th>IATA_CODE</th>\n      <th>AIRPORT</th>\n      <th>CITY</th>\n      <th>STATE</th>\n      <th>COUNTRY</th>\n      <th>LATITUDE</th>\n      <th>LONGITUDE</th>\n    </tr>\n  </thead>\n  <tbody>\n    <tr>\n      <th>0</th>\n      <td>ABE</td>\n      <td>Lehigh Valley International Airport</td>\n      <td>Allentown</td>\n      <td>PA</td>\n      <td>USA</td>\n      <td>40.65236</td>\n      <td>-75.44040</td>\n    </tr>\n    <tr>\n      <th>1</th>\n      <td>ABI</td>\n      <td>Abilene Regional Airport</td>\n      <td>Abilene</td>\n      <td>TX</td>\n      <td>USA</td>\n      <td>32.41132</td>\n      <td>-99.68190</td>\n    </tr>\n    <tr>\n      <th>2</th>\n      <td>ABQ</td>\n      <td>Albuquerque International Sunport</td>\n      <td>Albuquerque</td>\n      <td>NM</td>\n      <td>USA</td>\n      <td>35.04022</td>\n      <td>-106.60919</td>\n    </tr>\n    <tr>\n      <th>3</th>\n      <td>ABR</td>\n      <td>Aberdeen Regional Airport</td>\n      <td>Aberdeen</td>\n      <td>SD</td>\n      <td>USA</td>\n      <td>45.44906</td>\n      <td>-98.42183</td>\n    </tr>\n    <tr>\n      <th>4</th>\n      <td>ABY</td>\n      <td>Southwest Georgia Regional Airport</td>\n      <td>Albany</td>\n      <td>GA</td>\n      <td>USA</td>\n      <td>31.53552</td>\n      <td>-84.19447</td>\n    </tr>\n  </tbody>\n</table>\n</div>",
                        "text/plain": "  IATA_CODE                              AIRPORT         CITY STATE COUNTRY  \\\n0       ABE  Lehigh Valley International Airport    Allentown    PA     USA   \n1       ABI             Abilene Regional Airport      Abilene    TX     USA   \n2       ABQ    Albuquerque International Sunport  Albuquerque    NM     USA   \n3       ABR            Aberdeen Regional Airport     Aberdeen    SD     USA   \n4       ABY   Southwest Georgia Regional Airport       Albany    GA     USA   \n\n   LATITUDE  LONGITUDE  \n0  40.65236  -75.44040  \n1  32.41132  -99.68190  \n2  35.04022 -106.60919  \n3  45.44906  -98.42183  \n4  31.53552  -84.19447  "
                    },
                    "execution_count": 4,
                    "metadata": {},
                    "output_type": "execute_result"
                }
            ],
            "source": "\nbody = client_f35b7feb7b1d4c88b94e05b7182aa652.get_object(Bucket='revolvesolutionsassignment-donotdelete-pr-o1dz3b9nowhljn',Key='airports.csv')['Body']\n# add missing __iter__ method, so pandas accepts body as file-like object\nif not hasattr(body, \"__iter__\"): body.__iter__ = types.MethodType( __iter__, body )\n\ndf_data_2 = pd.read_csv(body)\ndf_data_2.head()\nbody = client_f35b7feb7b1d4c88b94e05b7182aa652.get_object(Bucket='revolvesolutionsassignment-donotdelete-pr-o1dz3b9nowhljn',Key='airports.csv')['Body']\n# add missing __iter__ method, so pandas accepts body as file-like object\nif not hasattr(body, \"__iter__\"): body.__iter__ = types.MethodType( __iter__, body )\n\ndf_airport = pd.read_csv(body)\ndf_airport.head()"
        },
        {
            "cell_type": "code",
            "execution_count": 6,
            "metadata": {},
            "outputs": [
                {
                    "data": {
                        "text/html": "<div>\n<style scoped>\n    .dataframe tbody tr th:only-of-type {\n        vertical-align: middle;\n    }\n\n    .dataframe tbody tr th {\n        vertical-align: top;\n    }\n\n    .dataframe thead th {\n        text-align: right;\n    }\n</style>\n<table border=\"1\" class=\"dataframe\">\n  <thead>\n    <tr style=\"text-align: right;\">\n      <th></th>\n      <th>year</th>\n      <th>month</th>\n      <th>day</th>\n      <th>dep_time</th>\n      <th>dep_delay</th>\n      <th>arr_time</th>\n      <th>arr_delay</th>\n      <th>carrier</th>\n      <th>tailnum</th>\n      <th>flight</th>\n      <th>origin</th>\n      <th>dest</th>\n      <th>air_time</th>\n      <th>distance</th>\n      <th>hour</th>\n      <th>minute</th>\n    </tr>\n  </thead>\n  <tbody>\n    <tr>\n      <th>0</th>\n      <td>2013</td>\n      <td>1</td>\n      <td>1</td>\n      <td>517.0</td>\n      <td>2.0</td>\n      <td>830.0</td>\n      <td>11.0</td>\n      <td>UA</td>\n      <td>N14228</td>\n      <td>1545</td>\n      <td>EWR</td>\n      <td>IAH</td>\n      <td>227.0</td>\n      <td>1400</td>\n      <td>5.0</td>\n      <td>17.0</td>\n    </tr>\n    <tr>\n      <th>1</th>\n      <td>2013</td>\n      <td>1</td>\n      <td>1</td>\n      <td>533.0</td>\n      <td>4.0</td>\n      <td>850.0</td>\n      <td>20.0</td>\n      <td>UA</td>\n      <td>N24211</td>\n      <td>1714</td>\n      <td>LGA</td>\n      <td>IAH</td>\n      <td>227.0</td>\n      <td>1416</td>\n      <td>5.0</td>\n      <td>33.0</td>\n    </tr>\n    <tr>\n      <th>2</th>\n      <td>2013</td>\n      <td>1</td>\n      <td>1</td>\n      <td>542.0</td>\n      <td>2.0</td>\n      <td>923.0</td>\n      <td>33.0</td>\n      <td>AA</td>\n      <td>N619AA</td>\n      <td>1141</td>\n      <td>JFK</td>\n      <td>MIA</td>\n      <td>160.0</td>\n      <td>1089</td>\n      <td>5.0</td>\n      <td>42.0</td>\n    </tr>\n    <tr>\n      <th>3</th>\n      <td>2013</td>\n      <td>1</td>\n      <td>1</td>\n      <td>544.0</td>\n      <td>-1.0</td>\n      <td>1004.0</td>\n      <td>-18.0</td>\n      <td>B6</td>\n      <td>N804JB</td>\n      <td>725</td>\n      <td>JFK</td>\n      <td>BQN</td>\n      <td>183.0</td>\n      <td>1576</td>\n      <td>5.0</td>\n      <td>44.0</td>\n    </tr>\n    <tr>\n      <th>4</th>\n      <td>2013</td>\n      <td>1</td>\n      <td>1</td>\n      <td>554.0</td>\n      <td>-6.0</td>\n      <td>812.0</td>\n      <td>-25.0</td>\n      <td>DL</td>\n      <td>N668DN</td>\n      <td>461</td>\n      <td>LGA</td>\n      <td>ATL</td>\n      <td>116.0</td>\n      <td>762</td>\n      <td>5.0</td>\n      <td>54.0</td>\n    </tr>\n  </tbody>\n</table>\n</div>",
                        "text/plain": "   year  month  day  dep_time  dep_delay  arr_time  arr_delay carrier tailnum  \\\n0  2013      1    1     517.0        2.0     830.0       11.0      UA  N14228   \n1  2013      1    1     533.0        4.0     850.0       20.0      UA  N24211   \n2  2013      1    1     542.0        2.0     923.0       33.0      AA  N619AA   \n3  2013      1    1     544.0       -1.0    1004.0      -18.0      B6  N804JB   \n4  2013      1    1     554.0       -6.0     812.0      -25.0      DL  N668DN   \n\n   flight origin dest  air_time  distance  hour  minute  \n0    1545    EWR  IAH     227.0      1400   5.0    17.0  \n1    1714    LGA  IAH     227.0      1416   5.0    33.0  \n2    1141    JFK  MIA     160.0      1089   5.0    42.0  \n3     725    JFK  BQN     183.0      1576   5.0    44.0  \n4     461    LGA  ATL     116.0       762   5.0    54.0  "
                    },
                    "execution_count": 6,
                    "metadata": {},
                    "output_type": "execute_result"
                }
            ],
            "source": "\nbody = client_f35b7feb7b1d4c88b94e05b7182aa652.get_object(Bucket='revolvesolutionsassignment-donotdelete-pr-o1dz3b9nowhljn',Key='flights.csv')['Body']\n# add missing __iter__ method, so pandas accepts body as file-like object\nif not hasattr(body, \"__iter__\"): body.__iter__ = types.MethodType( __iter__, body )\n\ndf_flight = pd.read_csv(body)\ndf_flight.head()\n"
        },
        {
            "cell_type": "code",
            "execution_count": 7,
            "metadata": {},
            "outputs": [
                {
                    "data": {
                        "text/html": "<div>\n<style scoped>\n    .dataframe tbody tr th:only-of-type {\n        vertical-align: middle;\n    }\n\n    .dataframe tbody tr th {\n        vertical-align: top;\n    }\n\n    .dataframe thead th {\n        text-align: right;\n    }\n</style>\n<table border=\"1\" class=\"dataframe\">\n  <thead>\n    <tr style=\"text-align: right;\">\n      <th></th>\n      <th>tailnum</th>\n      <th>year</th>\n      <th>type</th>\n      <th>manufacturer</th>\n      <th>model</th>\n      <th>engines</th>\n      <th>seats</th>\n      <th>speed</th>\n      <th>engine</th>\n    </tr>\n  </thead>\n  <tbody>\n    <tr>\n      <th>0</th>\n      <td>N10156</td>\n      <td>2004.0</td>\n      <td>Fixed wing multi engine</td>\n      <td>EMBRAER</td>\n      <td>EMB-145XR</td>\n      <td>2</td>\n      <td>55</td>\n      <td>NaN</td>\n      <td>Turbo-fan</td>\n    </tr>\n    <tr>\n      <th>1</th>\n      <td>N102UW</td>\n      <td>1998.0</td>\n      <td>Fixed wing multi engine</td>\n      <td>AIRBUS INDUSTRIE</td>\n      <td>A320-214</td>\n      <td>2</td>\n      <td>182</td>\n      <td>NaN</td>\n      <td>Turbo-fan</td>\n    </tr>\n    <tr>\n      <th>2</th>\n      <td>N103US</td>\n      <td>1999.0</td>\n      <td>Fixed wing multi engine</td>\n      <td>AIRBUS INDUSTRIE</td>\n      <td>A320-214</td>\n      <td>2</td>\n      <td>182</td>\n      <td>NaN</td>\n      <td>Turbo-fan</td>\n    </tr>\n    <tr>\n      <th>3</th>\n      <td>N104UW</td>\n      <td>1999.0</td>\n      <td>Fixed wing multi engine</td>\n      <td>AIRBUS INDUSTRIE</td>\n      <td>A320-214</td>\n      <td>2</td>\n      <td>182</td>\n      <td>NaN</td>\n      <td>Turbo-fan</td>\n    </tr>\n    <tr>\n      <th>4</th>\n      <td>N10575</td>\n      <td>2002.0</td>\n      <td>Fixed wing multi engine</td>\n      <td>EMBRAER</td>\n      <td>EMB-145LR</td>\n      <td>2</td>\n      <td>55</td>\n      <td>NaN</td>\n      <td>Turbo-fan</td>\n    </tr>\n  </tbody>\n</table>\n</div>",
                        "text/plain": "  tailnum    year                     type      manufacturer      model  \\\n0  N10156  2004.0  Fixed wing multi engine           EMBRAER  EMB-145XR   \n1  N102UW  1998.0  Fixed wing multi engine  AIRBUS INDUSTRIE   A320-214   \n2  N103US  1999.0  Fixed wing multi engine  AIRBUS INDUSTRIE   A320-214   \n3  N104UW  1999.0  Fixed wing multi engine  AIRBUS INDUSTRIE   A320-214   \n4  N10575  2002.0  Fixed wing multi engine           EMBRAER  EMB-145LR   \n\n   engines  seats  speed     engine  \n0        2     55    NaN  Turbo-fan  \n1        2    182    NaN  Turbo-fan  \n2        2    182    NaN  Turbo-fan  \n3        2    182    NaN  Turbo-fan  \n4        2     55    NaN  Turbo-fan  "
                    },
                    "execution_count": 7,
                    "metadata": {},
                    "output_type": "execute_result"
                }
            ],
            "source": "\nbody = client_f35b7feb7b1d4c88b94e05b7182aa652.get_object(Bucket='revolvesolutionsassignment-donotdelete-pr-o1dz3b9nowhljn',Key='planes.csv')['Body']\n# add missing __iter__ method, so pandas accepts body as file-like object\nif not hasattr(body, \"__iter__\"): body.__iter__ = types.MethodType( __iter__, body )\n\ndf_planes = pd.read_csv(body)\ndf_planes.head()\n"
        },
        {
            "cell_type": "code",
            "execution_count": 8,
            "metadata": {},
            "outputs": [
                {
                    "data": {
                        "text/html": "<div>\n<style scoped>\n    .dataframe tbody tr th:only-of-type {\n        vertical-align: middle;\n    }\n\n    .dataframe tbody tr th {\n        vertical-align: top;\n    }\n\n    .dataframe thead th {\n        text-align: right;\n    }\n</style>\n<table border=\"1\" class=\"dataframe\">\n  <thead>\n    <tr style=\"text-align: right;\">\n      <th></th>\n      <th>origin</th>\n      <th>year</th>\n      <th>month</th>\n      <th>day</th>\n      <th>hour</th>\n      <th>temp</th>\n      <th>dewp</th>\n      <th>humid</th>\n      <th>wind_dir</th>\n      <th>wind_speed</th>\n      <th>wind_gust</th>\n      <th>precip</th>\n      <th>pressure</th>\n      <th>visib</th>\n      <th>time_hour</th>\n    </tr>\n  </thead>\n  <tbody>\n    <tr>\n      <th>0</th>\n      <td>EWR</td>\n      <td>2013</td>\n      <td>1</td>\n      <td>1</td>\n      <td>1</td>\n      <td>39.02</td>\n      <td>26.06</td>\n      <td>59.37</td>\n      <td>270.0</td>\n      <td>10.35702</td>\n      <td>NaN</td>\n      <td>0.0</td>\n      <td>1012.0</td>\n      <td>10.0</td>\n      <td>2013-01-01T06:00:00Z</td>\n    </tr>\n    <tr>\n      <th>1</th>\n      <td>EWR</td>\n      <td>2013</td>\n      <td>1</td>\n      <td>1</td>\n      <td>2</td>\n      <td>39.02</td>\n      <td>26.96</td>\n      <td>61.63</td>\n      <td>250.0</td>\n      <td>8.05546</td>\n      <td>NaN</td>\n      <td>0.0</td>\n      <td>1012.3</td>\n      <td>10.0</td>\n      <td>2013-01-01T07:00:00Z</td>\n    </tr>\n    <tr>\n      <th>2</th>\n      <td>EWR</td>\n      <td>2013</td>\n      <td>1</td>\n      <td>1</td>\n      <td>3</td>\n      <td>39.02</td>\n      <td>28.04</td>\n      <td>64.43</td>\n      <td>240.0</td>\n      <td>11.50780</td>\n      <td>NaN</td>\n      <td>0.0</td>\n      <td>1012.5</td>\n      <td>10.0</td>\n      <td>2013-01-01T08:00:00Z</td>\n    </tr>\n    <tr>\n      <th>3</th>\n      <td>EWR</td>\n      <td>2013</td>\n      <td>1</td>\n      <td>1</td>\n      <td>4</td>\n      <td>39.92</td>\n      <td>28.04</td>\n      <td>62.21</td>\n      <td>250.0</td>\n      <td>12.65858</td>\n      <td>NaN</td>\n      <td>0.0</td>\n      <td>1012.2</td>\n      <td>10.0</td>\n      <td>2013-01-01T09:00:00Z</td>\n    </tr>\n    <tr>\n      <th>4</th>\n      <td>EWR</td>\n      <td>2013</td>\n      <td>1</td>\n      <td>1</td>\n      <td>5</td>\n      <td>39.02</td>\n      <td>28.04</td>\n      <td>64.43</td>\n      <td>260.0</td>\n      <td>12.65858</td>\n      <td>NaN</td>\n      <td>0.0</td>\n      <td>1011.9</td>\n      <td>10.0</td>\n      <td>2013-01-01T10:00:00Z</td>\n    </tr>\n  </tbody>\n</table>\n</div>",
                        "text/plain": "  origin  year  month  day  hour   temp   dewp  humid  wind_dir  wind_speed  \\\n0    EWR  2013      1    1     1  39.02  26.06  59.37     270.0    10.35702   \n1    EWR  2013      1    1     2  39.02  26.96  61.63     250.0     8.05546   \n2    EWR  2013      1    1     3  39.02  28.04  64.43     240.0    11.50780   \n3    EWR  2013      1    1     4  39.92  28.04  62.21     250.0    12.65858   \n4    EWR  2013      1    1     5  39.02  28.04  64.43     260.0    12.65858   \n\n   wind_gust  precip  pressure  visib             time_hour  \n0        NaN     0.0    1012.0   10.0  2013-01-01T06:00:00Z  \n1        NaN     0.0    1012.3   10.0  2013-01-01T07:00:00Z  \n2        NaN     0.0    1012.5   10.0  2013-01-01T08:00:00Z  \n3        NaN     0.0    1012.2   10.0  2013-01-01T09:00:00Z  \n4        NaN     0.0    1011.9   10.0  2013-01-01T10:00:00Z  "
                    },
                    "execution_count": 8,
                    "metadata": {},
                    "output_type": "execute_result"
                }
            ],
            "source": "\nbody = client_f35b7feb7b1d4c88b94e05b7182aa652.get_object(Bucket='revolvesolutionsassignment-donotdelete-pr-o1dz3b9nowhljn',Key='weather.csv')['Body']\n# add missing __iter__ method, so pandas accepts body as file-like object\nif not hasattr(body, \"__iter__\"): body.__iter__ = types.MethodType( __iter__, body )\n\ndf_weather = pd.read_csv(body)\ndf_weather.head()\n"
        },
        {
            "cell_type": "code",
            "execution_count": 9,
            "metadata": {
                "colab": {
                    "base_uri": "https://localhost:8080/"
                },
                "executionInfo": {
                    "elapsed": 434,
                    "status": "ok",
                    "timestamp": 1647470397495,
                    "user": {
                        "displayName": "Ritam Pradhan",
                        "photoUrl": "https://lh3.googleusercontent.com/a-/AOh14GhQIpDCzxASMEa8LFkHfv2cB_ts1tqvAaSsK_KL=s64",
                        "userId": "15423838301965334445"
                    },
                    "user_tz": -330
                },
                "id": "_ZDJdtena6dD",
                "outputId": "02268402-911e-42c5-f24c-5df9b0761d44"
            },
            "outputs": [
                {
                    "data": {
                        "text/plain": "365"
                    },
                    "execution_count": 9,
                    "metadata": {},
                    "output_type": "execute_result"
                }
            ],
            "source": "#Total Number of days the flight table cover\nsum = 0\ndf_flight_grouped = df_flight.groupby(\"month\")\nfor key, item in df_flight_grouped:\n  sum = sum + df_flight_grouped.get_group(key).groupby(\"day\").ngroups\nsum"
        },
        {
            "cell_type": "code",
            "execution_count": 10,
            "metadata": {
                "colab": {
                    "base_uri": "https://localhost:8080/"
                },
                "executionInfo": {
                    "elapsed": 478,
                    "status": "ok",
                    "timestamp": 1647470401225,
                    "user": {
                        "displayName": "Ritam Pradhan",
                        "photoUrl": "https://lh3.googleusercontent.com/a-/AOh14GhQIpDCzxASMEa8LFkHfv2cB_ts1tqvAaSsK_KL=s64",
                        "userId": "15423838301965334445"
                    },
                    "user_tz": -330
                },
                "id": "tzDFy_pJiyV-",
                "outputId": "f59fe1be-715b-46c9-e4cb-014427e0e79b"
            },
            "outputs": [
                {
                    "data": {
                        "text/plain": "3"
                    },
                    "execution_count": 10,
                    "metadata": {},
                    "output_type": "execute_result"
                }
            ],
            "source": "#number of departure cities flight table covers\ndf_flight_grouped = df_flight.groupby(\"origin\").ngroups\ndf_flight_grouped"
        },
        {
            "cell_type": "code",
            "execution_count": 11,
            "metadata": {
                "id": "mAqJZSUPl45N",
                "scrolled": true
            },
            "outputs": [
                {
                    "ename": "ValueError",
                    "evalue": "The truth value of a DataFrame is ambiguous. Use a.empty, a.bool(), a.item(), a.any() or a.all().",
                    "output_type": "error",
                    "traceback": [
                        "\u001b[0;31m---------------------------------------------------------------------------\u001b[0m",
                        "\u001b[0;31mValueError\u001b[0m                                Traceback (most recent call last)",
                        "\u001b[0;32m/tmp/wsuser/ipykernel_234/3422190201.py\u001b[0m in \u001b[0;36m<module>\u001b[0;34m\u001b[0m\n\u001b[1;32m      2\u001b[0m \u001b[0mdf_f\u001b[0m \u001b[0;34m=\u001b[0m \u001b[0mdf_flight\u001b[0m\u001b[0;34m\u001b[0m\u001b[0;34m\u001b[0m\u001b[0m\n\u001b[1;32m      3\u001b[0m \u001b[0mdf_p\u001b[0m \u001b[0;34m=\u001b[0m \u001b[0mdf_planes\u001b[0m\u001b[0;34m\u001b[0m\u001b[0;34m\u001b[0m\u001b[0m\n\u001b[0;32m----> 4\u001b[0;31m \u001b[0mdf_f\u001b[0m\u001b[0;34m.\u001b[0m\u001b[0mcorr\u001b[0m\u001b[0;34m(\u001b[0m\u001b[0mdf_p\u001b[0m\u001b[0;34m)\u001b[0m\u001b[0;34m\u001b[0m\u001b[0;34m\u001b[0m\u001b[0m\n\u001b[0m",
                        "\u001b[0;32m/opt/conda/envs/Python-3.9/lib/python3.9/site-packages/pandas/core/frame.py\u001b[0m in \u001b[0;36mcorr\u001b[0;34m(self, method, min_periods)\u001b[0m\n\u001b[1;32m   9376\u001b[0m         \u001b[0mmat\u001b[0m \u001b[0;34m=\u001b[0m \u001b[0mnumeric_df\u001b[0m\u001b[0;34m.\u001b[0m\u001b[0mto_numpy\u001b[0m\u001b[0;34m(\u001b[0m\u001b[0mdtype\u001b[0m\u001b[0;34m=\u001b[0m\u001b[0mfloat\u001b[0m\u001b[0;34m,\u001b[0m \u001b[0mna_value\u001b[0m\u001b[0;34m=\u001b[0m\u001b[0mnp\u001b[0m\u001b[0;34m.\u001b[0m\u001b[0mnan\u001b[0m\u001b[0;34m,\u001b[0m \u001b[0mcopy\u001b[0m\u001b[0;34m=\u001b[0m\u001b[0;32mFalse\u001b[0m\u001b[0;34m)\u001b[0m\u001b[0;34m\u001b[0m\u001b[0;34m\u001b[0m\u001b[0m\n\u001b[1;32m   9377\u001b[0m \u001b[0;34m\u001b[0m\u001b[0m\n\u001b[0;32m-> 9378\u001b[0;31m         \u001b[0;32mif\u001b[0m \u001b[0mmethod\u001b[0m \u001b[0;34m==\u001b[0m \u001b[0;34m\"pearson\"\u001b[0m\u001b[0;34m:\u001b[0m\u001b[0;34m\u001b[0m\u001b[0;34m\u001b[0m\u001b[0m\n\u001b[0m\u001b[1;32m   9379\u001b[0m             \u001b[0mcorrel\u001b[0m \u001b[0;34m=\u001b[0m \u001b[0mlibalgos\u001b[0m\u001b[0;34m.\u001b[0m\u001b[0mnancorr\u001b[0m\u001b[0;34m(\u001b[0m\u001b[0mmat\u001b[0m\u001b[0;34m,\u001b[0m \u001b[0mminp\u001b[0m\u001b[0;34m=\u001b[0m\u001b[0mmin_periods\u001b[0m\u001b[0;34m)\u001b[0m\u001b[0;34m\u001b[0m\u001b[0;34m\u001b[0m\u001b[0m\n\u001b[1;32m   9380\u001b[0m         \u001b[0;32melif\u001b[0m \u001b[0mmethod\u001b[0m \u001b[0;34m==\u001b[0m \u001b[0;34m\"spearman\"\u001b[0m\u001b[0;34m:\u001b[0m\u001b[0;34m\u001b[0m\u001b[0;34m\u001b[0m\u001b[0m\n",
                        "\u001b[0;32m/opt/conda/envs/Python-3.9/lib/python3.9/site-packages/pandas/core/generic.py\u001b[0m in \u001b[0;36m__nonzero__\u001b[0;34m(self)\u001b[0m\n\u001b[1;32m   1535\u001b[0m     \u001b[0;34m@\u001b[0m\u001b[0mfinal\u001b[0m\u001b[0;34m\u001b[0m\u001b[0;34m\u001b[0m\u001b[0m\n\u001b[1;32m   1536\u001b[0m     \u001b[0;32mdef\u001b[0m \u001b[0m__nonzero__\u001b[0m\u001b[0;34m(\u001b[0m\u001b[0mself\u001b[0m\u001b[0;34m)\u001b[0m\u001b[0;34m:\u001b[0m\u001b[0;34m\u001b[0m\u001b[0;34m\u001b[0m\u001b[0m\n\u001b[0;32m-> 1537\u001b[0;31m         raise ValueError(\n\u001b[0m\u001b[1;32m   1538\u001b[0m             \u001b[0;34mf\"The truth value of a {type(self).__name__} is ambiguous. \"\u001b[0m\u001b[0;34m\u001b[0m\u001b[0;34m\u001b[0m\u001b[0m\n\u001b[1;32m   1539\u001b[0m             \u001b[0;34m\"Use a.empty, a.bool(), a.item(), a.any() or a.all().\"\u001b[0m\u001b[0;34m\u001b[0m\u001b[0;34m\u001b[0m\u001b[0m\n",
                        "\u001b[0;31mValueError\u001b[0m: The truth value of a DataFrame is ambiguous. Use a.empty, a.bool(), a.item(), a.any() or a.all()."
                    ]
                }
            ],
            "source": "#relationship between flights and planes table (tailnum column is the only point of link between the two datasheet)\ndf_f = df_flight\ndf_p = df_planes\ndf_f.corr(df_p)"
        },
        {
            "cell_type": "code",
            "execution_count": 12,
            "metadata": {
                "colab": {
                    "base_uri": "https://localhost:8080/",
                    "height": 35
                },
                "executionInfo": {
                    "elapsed": 4,
                    "status": "ok",
                    "timestamp": 1647470407212,
                    "user": {
                        "displayName": "Ritam Pradhan",
                        "photoUrl": "https://lh3.googleusercontent.com/a-/AOh14GhQIpDCzxASMEa8LFkHfv2cB_ts1tqvAaSsK_KL=s64",
                        "userId": "15423838301965334445"
                    },
                    "user_tz": -330
                },
                "id": "REXEmxExn6Tq",
                "outputId": "2a7c9716-0dcd-45d3-efbd-624736b418d0"
            },
            "outputs": [
                {
                    "data": {
                        "text/plain": "'AIRBUS'"
                    },
                    "execution_count": 12,
                    "metadata": {},
                    "output_type": "execute_result"
                }
            ],
            "source": "#airplane manufacturer incurred the most delays in the analysis period\nflight_dep = df_flight[\"dep_delay\"].to_numpy()\nflight_arr = df_flight[\"arr_delay\"].to_numpy()\nflight_tail = df_flight[\"tailnum\"].to_numpy()\nflight_dep = np.nan_to_num(flight_dep)\nflight_arr = np.nan_to_num(flight_arr)\ntotal_delay = flight_dep + flight_arr\nind = total_delay.argmax(axis=0)\ntailname = flight_tail[ind]\nplanes_tail = df_planes[\"tailnum\"].to_numpy()\nplanes_manufacturer = df_planes[\"manufacturer\"].to_numpy()\nind_planes = np.where(planes_tail == tailname)\nplanes_manufacturer[ind_planes][0]"
        },
        {
            "cell_type": "code",
            "execution_count": 13,
            "metadata": {
                "colab": {
                    "base_uri": "https://localhost:8080/"
                },
                "executionInfo": {
                    "elapsed": 436,
                    "status": "ok",
                    "timestamp": 1647470411387,
                    "user": {
                        "displayName": "Ritam Pradhan",
                        "photoUrl": "https://lh3.googleusercontent.com/a-/AOh14GhQIpDCzxASMEa8LFkHfv2cB_ts1tqvAaSsK_KL=s64",
                        "userId": "15423838301965334445"
                    },
                    "user_tz": -330
                },
                "id": "QkbfFBWGsoF-",
                "outputId": "1553bbed-6849-4b7d-9535-a4132430583d"
            },
            "outputs": [
                {
                    "name": "stdout",
                    "output_type": "stream",
                    "text": "JFK LAX\n"
                }
            ],
            "source": "#two most connected cities\nm = 0\norigin_ind = 0\ndest_ind = 0\ndf_flight_grouped = df_flight.groupby(\"origin\")\nfor key, item in df_flight_grouped:\n  p = df_flight_grouped.get_group(key).groupby(\"dest\")\n  q = p.count()\n  n = q[\"origin\"].to_numpy()\n  k = max(n)\n  if m < k:\n    m = k\n    origin_ind = key\n    ind = np.argmax(n)\n    dest_ind = q.index[ind]\nprint(origin_ind, dest_ind)"
        },
        {
            "cell_type": "code",
            "execution_count": null,
            "metadata": {},
            "outputs": [],
            "source": ""
        }
    ],
    "metadata": {
        "colab": {
            "collapsed_sections": [],
            "name": "assignment.ipynb",
            "provenance": []
        },
        "kernelspec": {
            "display_name": "Python 3.9",
            "language": "python",
            "name": "python3"
        },
        "language_info": {
            "codemirror_mode": {
                "name": "ipython",
                "version": 3
            },
            "file_extension": ".py",
            "mimetype": "text/x-python",
            "name": "python",
            "nbconvert_exporter": "python",
            "pygments_lexer": "ipython3",
            "version": "3.9.7"
        }
    },
    "nbformat": 4,
    "nbformat_minor": 1
}